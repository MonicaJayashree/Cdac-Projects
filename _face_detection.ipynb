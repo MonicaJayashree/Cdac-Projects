{
 "cells": [
  {
   "cell_type": "code",
   "execution_count": 11,
   "metadata": {},
   "outputs": [],
   "source": [
    "import os\n",
    "import numpy as np\n",
    "from tensorflow.python.platform import gfile\n",
    "import tensorflow.compat.v1 as tf\n",
    "import re"
   ]
  },
  {
   "cell_type": "code",
   "execution_count": 12,
   "metadata": {},
   "outputs": [],
   "source": [
    "tf.disable_eager_execution()"
   ]
  },
  {
   "cell_type": "code",
   "execution_count": 13,
   "metadata": {},
   "outputs": [],
   "source": [
    "def prewhiten(x):\n",
    "    mean = np.mean(x)\n",
    "    std = np.std(x)\n",
    "    std_adj = np.maximum(std, 1.0 / np.sqrt(x.size))\n",
    "    y = np.multiply(np.subtract(x, mean), 1 / std_adj)\n",
    "    return y"
   ]
  },
  {
   "cell_type": "code",
   "execution_count": 14,
   "metadata": {},
   "outputs": [],
   "source": [
    "def to_rgb(img):\n",
    "    w, h = img.shape\n",
    "    ret = np.empty((w, h, 3), dtype=np.uint8)\n",
    "    ret[:, :, 0] = ret[:, :, 1] = ret[:, :, 2] = img\n",
    "    return ret"
   ]
  },
  {
   "cell_type": "code",
   "execution_count": 15,
   "metadata": {},
   "outputs": [],
   "source": [
    "def get_model_filenames(model_dir):\n",
    "    files = os.listdir(model_dir)\n",
    "    meta_files = [s for s in files if s.endswith('.meta')]\n",
    "    if len(meta_files) == 0:\n",
    "        raise ValueError('No meta file found in the model directory (%s)' % model_dir)\n",
    "    elif len(meta_files) > 1:\n",
    "        raise ValueError('There should not be more than one meta file in the model directory (%s)' % model_dir)\n",
    "    meta_file = meta_files[0]\n",
    "    meta_files = [s for s in files if '.ckpt' in s]\n",
    "    max_step = -1\n",
    "    for f in files:\n",
    "        step_str = re.match(r'(^model-[\\w\\- ]+.ckpt-(\\d+))', f)\n",
    "        if step_str is not None and len(step_str.groups()) >= 2:\n",
    "            step = int(step_str.groups()[1])\n",
    "            if step > max_step:\n",
    "                max_step = step\n",
    "                ckpt_file = step_str.groups()[0]\n",
    "    return meta_file, ckpt_file"
   ]
  },
  {
   "cell_type": "code",
   "execution_count": 16,
   "metadata": {},
   "outputs": [],
   "source": [
    "def make_image_tensor(img, image_size, do_prewhiten=True):\n",
    "    image = np.zeros((1, image_size, image_size, 3))\n",
    "    if img.ndim == 2:\n",
    "        img = to_rgb(img)\n",
    "    if do_prewhiten:\n",
    "        img = prewhiten(img)\n",
    "    image[0, :, :, :] = img\n",
    "    return image"
   ]
  },
  {
   "cell_type": "code",
   "execution_count": 17,
   "metadata": {},
   "outputs": [],
   "source": [
    "def make_images_tensor(img1, img2, image_size, do_prewhiten=True):\n",
    "    images = np.zeros((2, image_size, image_size, 3))\n",
    "    for i, img in enumerate([img1, img2]):\n",
    "        if img.ndim == 2:\n",
    "            img = to_rgb(img)\n",
    "        if do_prewhiten:\n",
    "            img = prewhiten(img)\n",
    "        images[i, :, :, :] = img\n",
    "    return images"
   ]
  },
  {
   "cell_type": "code",
   "execution_count": 18,
   "metadata": {},
   "outputs": [],
   "source": [
    "def load_model(model, session):\n",
    "    model_exp = os.path.expanduser(model)\n",
    "    if os.path.isfile(model_exp):\n",
    "        with gfile.FastGFile(model_exp, 'rb') as f:\n",
    "            graph_def = tf.GraphDef()\n",
    "            graph_def.ParseFromString(f.read())\n",
    "            tf.import_graph_def(graph_def, name='')\n",
    "    else:\n",
    "        meta_file, ckpt_file = get_model_filenames(model_exp)\n",
    "        saver = tf.train.import_meta_graph(os.path.join(model_exp, meta_file))\n",
    "        saver.restore(session, os.path.join(model_exp, ckpt_file))"
   ]
  },
  {
   "cell_type": "code",
   "execution_count": 19,
   "metadata": {},
   "outputs": [],
   "source": [
    "class Verification:\n",
    "    def __init__(self):\n",
    "        gpu_options = tf.GPUOptions(per_process_gpu_memory_fraction=0.333)\n",
    "        self.session = tf.Session(config=tf.ConfigProto(gpu_options=gpu_options))\n",
    "        self.images_placeholder = ''\n",
    "        self.embeddings = ''\n",
    "        self.phase_train_placeholder = ''\n",
    "        self.embedding_size = ''\n",
    "        self.session_closed = False\n",
    "    def __del__(self):\n",
    "        if not self.session_closed:\n",
    "            self.session.close()\n",
    "    def kill_session(self):\n",
    "        self.session_closed = True\n",
    "        self.session.close()\n",
    "    def load_model(self, model):\n",
    "        load_model(model, self.session)\n",
    "    def initial_input_output_tensors(self):\n",
    "        self.images_placeholder = tf.get_default_graph().get_tensor_by_name(\"input:0\")\n",
    "        self.embeddings = tf.get_default_graph().get_tensor_by_name(\"embeddings:0\")\n",
    "        self.phase_train_placeholder = tf.get_default_graph().get_tensor_by_name(\"phase_train:0\")\n",
    "        self.embedding_size = self.embeddings.get_shape()[1]\n",
    "    def img_to_encoding(self, img, image_size):\n",
    "        image = make_image_tensor(img, image_size)\n",
    "        feed_dict = {self.images_placeholder: image, self.phase_train_placeholder: False}\n",
    "        emb_array = np.zeros((1, self.embedding_size))\n",
    "        emb_array[0, :] = self.session.run(self.embeddings, feed_dict=feed_dict)\n",
    "        return np.squeeze(emb_array)"
   ]
  },
  {
   "cell_type": "code",
   "execution_count": 20,
   "metadata": {},
   "outputs": [],
   "source": [
    "class FaceDetection:\n",
    "\n",
    "    # Modify the verification_threshold incase you want to edit \n",
    "    verification_threshold = 0.8\n",
    "    v, net = None, None\n",
    "    def __init__(self):\n",
    "        FaceDetection.net = FaceDetection.load_opencv()\n",
    "        FaceDetection.v = FaceDetection.load_model()\n",
    "    @staticmethod\n",
    "    def load_opencv():\n",
    "        model_path = \"./Models/OpenCV/opencv_face_detector_uint8.pb\"\n",
    "        model_weights = \"./Models/OpenCV/opencv_face_detector.pbtxt\"\n",
    "        net = cv2.dnn.readNetFromTensorflow(model_path, model_weights)\n",
    "        return net\n",
    "    @staticmethod\n",
    "    def load_model():\n",
    "        v = ftk.Verification()\n",
    "        v.load_model(\"./Models/FaceDetection/\")\n",
    "        v.initial_input_output_tensors()\n",
    "        return v\n",
    "    @staticmethod\n",
    "    def is_same(emb1, emb2):\n",
    "        diff = np.subtract(emb1, emb2)\n",
    "        diff = np.sum(np.square(diff))\n",
    "        return diff < FaceDetection.verification_threshold, diff\n",
    "    @staticmethod\n",
    "    def fetch_embeddings(image):\n",
    "        image_size = 160\n",
    "        height, width, channels = image.shape\n",
    "        blob = cv2.dnn.blobFromImage(image, 1.0, (300, 300), [104, 117, 123], False, False)\n",
    "        FaceDetection.net.setInput(blob)\n",
    "        detections = FaceDetection.net.forward()\n",
    "        faces = []\n",
    "        for i in range(detections.shape[2]):\n",
    "            confidence = detections[0, 0, i, 2]\n",
    "            if confidence > 0.5:\n",
    "                x1 = int(detections[0, 0, i, 3] * width)\n",
    "                y1 = int(detections[0, 0, i, 4] * height)\n",
    "                x2 = int(detections[0, 0, i, 5] * width)\n",
    "                y2 = int(detections[0, 0, i, 6] * height)\n",
    "                faces.append([x1, y1, x2 - x1, y2 - y1])\n",
    "                # cv2.rectangle(image, (x1, y1), (x2, y2), (255, 0, 0), 2)\n",
    "                # cv2.imshow(\"img\", image)\n",
    "                # cv2.waitKey(0)\n",
    "        if len(faces) == 1:\n",
    "            face = faces[0]\n",
    "            x, y, w, h = face\n",
    "            im_face = image[y:y + h, x:x + w]\n",
    "            img = cv2.resize(im_face, (200, 200))\n",
    "            user_embed = FaceDetection.v.img_to_encoding(cv2.resize(img, (160, 160)), image_size)\n",
    "        else:\n",
    "            return None\n",
    "        return user_embed\n",
    "    @staticmethod\n",
    "    def verify_face(image1, image2):\n",
    "        if not FaceDetection.v:\n",
    "            FaceDetection.v = FaceDetection.load_model()\n",
    "        if not FaceDetection.net:\n",
    "            FaceDetection.net = FaceDetection.load_opencv()\n",
    "        img1_emb = FaceDetection.fetch_embeddings(image1)\n",
    "        img2_emb = FaceDetection.fetch_embeddings(image2)\n",
    "        if img1_emb is not None and img2_emb is not None:\n",
    "            response = FaceDetection.is_same(img1_emb, img2_emb)\n",
    "            return {\"response\": \"API result\", \"verified\": str(response[0]), \"accuracy\": response[1]}\n",
    "        cv2.destroyAllWindows()\n",
    "        return {\"response\": \"Face unavailable in either image\", \"verified\": str(False), \"accuracy\": 0}"
   ]
  },
  {
   "cell_type": "code",
   "execution_count": null,
   "metadata": {},
   "outputs": [],
   "source": []
  },
  {
   "cell_type": "code",
   "execution_count": null,
   "metadata": {},
   "outputs": [],
   "source": []
  }
 ],
 "metadata": {
  "kernelspec": {
   "display_name": "Python 3 (ipykernel)",
   "language": "python",
   "name": "python3"
  },
  "language_info": {
   "codemirror_mode": {
    "name": "ipython",
    "version": 3
   },
   "file_extension": ".py",
   "mimetype": "text/x-python",
   "name": "python",
   "nbconvert_exporter": "python",
   "pygments_lexer": "ipython3",
   "version": "3.11.3"
  }
 },
 "nbformat": 4,
 "nbformat_minor": 2
}
